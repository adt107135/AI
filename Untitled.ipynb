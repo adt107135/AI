{
 "cells": [
  {
   "cell_type": "code",
   "execution_count": 9,
   "metadata": {},
   "outputs": [
    {
     "name": "stdout",
     "output_type": "stream",
     "text": [
      "熱門新聞:\n",
      "標題: 馬英九台北市長政績如何？資料一攤開酸民全傻了 - 政治\n",
      "連結: https://www.chinatimes.com/realtimenews/20201014001824-260407?ctrack=mo_main_hot_p01\n",
      "\n",
      "標題: 罷韓後高雄變冷清？他「1張空拍圖」曝現況 網大驚 - 政治\n",
      "連結: https://www.chinatimes.com/realtimenews/20201013005450-260407?ctrack=mo_main_hot_p02\n",
      "\n",
      "標題: 韓國瑜手上握有「最強血滴子」？軍校校友會理事長不藏了 - 政治\n",
      "連結: https://www.chinatimes.com/realtimenews/20201014002371-260407?ctrack=mo_main_hot_p03\n",
      "\n",
      "標題: 林子祥73歲近況曝光 生日同框愛妻葉蒨文「竟像父女」 - 娛樂\n",
      "連結: https://www.chinatimes.com/realtimenews/20201013003240-260404?ctrack=mo_main_hot_p04\n",
      "\n",
      "標題: 得知韓國瑜確定被罷免 李四川立刻做了這件事 - 政治\n",
      "連結: https://www.chinatimes.com/realtimenews/20201014001381-260407?ctrack=mo_main_hot_p05\n",
      "\n",
      "標題: 韓國瑜留下爛攤子？黃捷要高雄對「這55位孩子」負責 - 政治\n",
      "連結: https://www.chinatimes.com/realtimenews/20201014001466-260407?ctrack=mo_main_hot_p06\n",
      "\n",
      "標題: iPhone 12系列不送充電器及耳機 充電線也改換一新 - 科技 - 科技\n",
      "連結: https://www.chinatimes.com/realtimenews/20201014000915-260412?ctrack=mo_main_hot_p07\n",
      "\n"
     ]
    }
   ],
   "source": [
    "import requests\n",
    "from bs4 import BeautifulSoup\n",
    "\n",
    "url = 'https://www.chinatimes.com/'\n",
    "r = requests.get(url)\n",
    "\n",
    "if r.status_code == requests.codes.ok:\n",
    "    soup = BeautifulSoup(r.text, 'html.parser')\n",
    "    titles = soup.find_all(\"h4\", class_=\"title\", limit = 7)\n",
    "    print(\"熱門新聞:\")\n",
    "    for title in titles:\n",
    "        print(\"標題:\",title.select_one(\"a\").getText())\n",
    "        print(\"連結:\",title.select_one(\"a\").get(\"href\"))\n",
    "        print()"
   ]
  }
 ],
 "metadata": {
  "kernelspec": {
   "display_name": "Python 3",
   "language": "python",
   "name": "python3"
  },
  "language_info": {
   "codemirror_mode": {
    "name": "ipython",
    "version": 3
   },
   "file_extension": ".py",
   "mimetype": "text/x-python",
   "name": "python",
   "nbconvert_exporter": "python",
   "pygments_lexer": "ipython3",
   "version": "3.8.3"
  }
 },
 "nbformat": 4,
 "nbformat_minor": 4
}
